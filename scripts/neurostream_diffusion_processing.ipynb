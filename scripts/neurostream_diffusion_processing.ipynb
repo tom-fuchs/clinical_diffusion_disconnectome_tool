{
 "cells": [
  {
   "cell_type": "markdown",
   "metadata": {
    "ExecuteTime": {
     "end_time": "2019-05-31T17:25:23.145270Z",
     "start_time": "2019-05-31T17:25:21.396334Z"
    }
   },
   "source": [
    "# Neurostream processing \n",
    "- Python snippets employed to process the neurostream database\n",
    "- Keep in mind most of the heavy lifting was done via scripts \n",
    "- those can be found at \n",
    " > /shared/studies/nonregulated/connectome/dti_fa/DTI_processing_application\n",
    "- The code in here was fairly auxiliary \n",
    "- Kira Ashton "
   ]
  },
  {
   "cell_type": "code",
   "execution_count": 1,
   "metadata": {
    "ExecuteTime": {
     "end_time": "2019-07-03T18:03:58.699230Z",
     "start_time": "2019-07-03T18:03:55.927128Z"
    }
   },
   "outputs": [],
   "source": [
    "import numpy\n",
    "import scipy.io as sio\n",
    "import csv\n",
    "import os\n",
    "import numpy.ma as ma\n",
    "from nilearn import plotting \n",
    "from nilearn import image\n",
    "import nibabel\n",
    "import pandas as pd"
   ]
  },
  {
   "cell_type": "code",
   "execution_count": 10,
   "metadata": {
    "ExecuteTime": {
     "end_time": "2019-06-04T14:52:41.359893Z",
     "start_time": "2019-06-04T14:42:04.245044Z"
    }
   },
   "outputs": [
    {
     "name": "stdout",
     "output_type": "stream",
     "text": [
      "done\r\n"
     ]
    }
   ],
   "source": [
    "path='/shared/studies/nonregulated/connectome/dti_fa/scratch/newmakefiletest/subjects/'\n",
    "with open('/shared/studies/nonregulated/connectome/dti_fa/scratch/newmakefiletest/subject_lists/ms_ids.csv') as csvfile:\n",
    "    subject_list = csv.reader(csvfile, delimiter=',', quotechar='\"')\n",
    "\n",
    "    for subject in subject_list: \n",
    "        subid = 'EX71188' \n",
    "\n",
    "#         print subid\n",
    "\n",
    "        !cd $path$subid && \\\n",
    "        bet T1toMNIWarped.nii.gz T1toMNIWarped_brain -m -f 0.2 && \\\n",
    "        echo 'done' && \\\n",
    "        fast -g -t 1 --nopve -o dti -n 1 T1toMNIWarped_brain.nii.gz\n",
    "\n",
    "\n",
    "#             !cd $path$subid && \\\n",
    "#             bet T1toMNIWarped.nii.gz T1toMNIWarped_brain -m -f 0.2 && \\\n",
    "#             fast -g -t 1 -o dti -n 2 T1toMNIWarped_brain.nii.gz\n",
    "\n",
    "        break\n",
    "\n"
   ]
  },
  {
   "cell_type": "markdown",
   "metadata": {},
   "source": [
    "# Assemble exam ids for all neurostream timepoints"
   ]
  },
  {
   "cell_type": "markdown",
   "metadata": {},
   "source": [
    "## For MS exams "
   ]
  },
  {
   "cell_type": "code",
   "execution_count": null,
   "metadata": {},
   "outputs": [],
   "source": [
    "path='/shared/studies/nonregulated/connectome/dti_fa/neurostream/'\n",
    "\n",
    "database = pd.read_csv(path+'supernac_neurostream_2018.csv',low_memory=False)\n",
    "\n",
    "database = database.fillna(-1)\n",
    "\n",
    "database = database[database['Disease.1'] == 'MS']\n",
    "\n",
    "df1 =     database[['Exam_ID.1']] \n",
    "df2 =     database[['Exam_ID.2']]\n",
    "df3 =     database[['Exam_ID.3']]\n",
    "df4 =     database[['Exam_ID.4']]\n",
    "df5 =     database[['Exam_ID.5']]\n",
    "df6 =     database[['Exam_ID.6']]\n",
    "df7 =     database[['Exam_ID.7']]\n",
    "df8 =     database[['Exam_ID.8']]\n",
    "df9 =     database[['Exam_ID.9']]\n",
    "df10 =     database[['Exam_ID.10']]\n",
    "df11 =     database[['Exam_ID.11']]\n",
    "df12 =     database[['Exam_ID.12']]\n",
    "df13 =     database[['Exam_ID.13']]\n",
    "df14 =     database[['Exam_ID.14']]\n",
    "df15 =     database[['Exam_ID.15']]\n",
    "df16 =     database[['Exam_ID.16']]\n",
    "df17 =     database[['Exam_ID.17']]\n",
    "df18 =     database[['Exam_ID.18']]\n",
    "df19 =     database[['Exam_ID.19']]\n",
    "df20 =     database[['Exam_ID.20']]\n",
    "df21 =     database[['Exam_ID.21']]\n",
    "df22 =     database[['Exam_ID.22']]\n",
    "df23 =     database[['Exam_ID.23']]\n",
    "df24 =     database[['Exam_ID.24']]\n",
    "\n",
    "df1.columns=['Exam_ID']\n",
    "df2.columns=['Exam_ID']\n",
    "df3.columns=['Exam_ID']\n",
    "df4.columns=['Exam_ID']\n",
    "df5.columns=['Exam_ID']\n",
    "df6.columns=['Exam_ID']\n",
    "df7.columns=['Exam_ID']\n",
    "df8.columns=['Exam_ID']\n",
    "df9.columns=['Exam_ID']\n",
    "df10.columns=['Exam_ID']\n",
    "df11.columns=['Exam_ID']\n",
    "df12.columns=['Exam_ID']\n",
    "df13.columns=['Exam_ID']\n",
    "df14.columns=['Exam_ID']\n",
    "df15.columns=['Exam_ID']\n",
    "df16.columns=['Exam_ID']\n",
    "df17.columns=['Exam_ID']\n",
    "df18.columns=['Exam_ID']\n",
    "df19.columns=['Exam_ID']\n",
    "df20.columns=['Exam_ID']\n",
    "df21.columns=['Exam_ID']\n",
    "df22.columns=['Exam_ID']\n",
    "df23.columns=['Exam_ID']\n",
    "df24.columns=['Exam_ID']\n",
    "\n",
    "objs = [\n",
    "df1,\n",
    "df2,\n",
    "df3,\n",
    "df4,\n",
    "df5,\n",
    "df6,\n",
    "df7,\n",
    "df8,\n",
    "df9,\n",
    "df10,\n",
    "df11,\n",
    "df12,\n",
    "df13,\n",
    "df14,\n",
    "df15,\n",
    "df16,\n",
    "df17,\n",
    "df18,\n",
    "df19,\n",
    "df20,\n",
    "df21,\n",
    "df22,\n",
    "df23,\n",
    "df24\n",
    "]\n",
    "\n",
    "final = pd.concat(objs, axis=0)\n",
    "\n",
    "final.Exam_ID = final.Exam_ID.astype(int)\n",
    "\n",
    "b = final['Exam_ID'] != -1\n",
    "\n",
    "final = final[b]\n",
    "\n",
    "\n",
    "final.to_csv(path+'all_ms_neurostream_examids.csv', sep=',', index=False)\n",
    "      \n",
    "\n"
   ]
  },
  {
   "cell_type": "markdown",
   "metadata": {},
   "source": [
    "## For HC exams "
   ]
  },
  {
   "cell_type": "code",
   "execution_count": null,
   "metadata": {},
   "outputs": [],
   "source": [
    "path='/shared/studies/nonregulated/connectome/dti_fa/neurostream/'\n",
    "\n",
    "database = pd.read_csv(path+'supernac_neurostream_2018.csv',low_memory=False)\n",
    "\n",
    "database = database.fillna(-1)\n",
    "\n",
    "database = database[database['Disease.1'] == 'NC']\n",
    "\n",
    "df1 =     database[['Exam_ID.1']] \n",
    "df2 =     database[['Exam_ID.2']]\n",
    "df3 =     database[['Exam_ID.3']]\n",
    "df4 =     database[['Exam_ID.4']]\n",
    "df5 =     database[['Exam_ID.5']]\n",
    "df6 =     database[['Exam_ID.6']]\n",
    "df7 =     database[['Exam_ID.7']]\n",
    "df8 =     database[['Exam_ID.8']]\n",
    "df9 =     database[['Exam_ID.9']]\n",
    "df10 =     database[['Exam_ID.10']]\n",
    "df11 =     database[['Exam_ID.11']]\n",
    "df12 =     database[['Exam_ID.12']]\n",
    "df13 =     database[['Exam_ID.13']]\n",
    "df14 =     database[['Exam_ID.14']]\n",
    "df15 =     database[['Exam_ID.15']]\n",
    "df16 =     database[['Exam_ID.16']]\n",
    "df17 =     database[['Exam_ID.17']]\n",
    "df18 =     database[['Exam_ID.18']]\n",
    "df19 =     database[['Exam_ID.19']]\n",
    "df20 =     database[['Exam_ID.20']]\n",
    "df21 =     database[['Exam_ID.21']]\n",
    "df22 =     database[['Exam_ID.22']]\n",
    "df23 =     database[['Exam_ID.23']]\n",
    "df24 =     database[['Exam_ID.24']]\n",
    "\n",
    "df1.columns=['Exam_ID']\n",
    "df2.columns=['Exam_ID']\n",
    "df3.columns=['Exam_ID']\n",
    "df4.columns=['Exam_ID']\n",
    "df5.columns=['Exam_ID']\n",
    "df6.columns=['Exam_ID']\n",
    "df7.columns=['Exam_ID']\n",
    "df8.columns=['Exam_ID']\n",
    "df9.columns=['Exam_ID']\n",
    "df10.columns=['Exam_ID']\n",
    "df11.columns=['Exam_ID']\n",
    "df12.columns=['Exam_ID']\n",
    "df13.columns=['Exam_ID']\n",
    "df14.columns=['Exam_ID']\n",
    "df15.columns=['Exam_ID']\n",
    "df16.columns=['Exam_ID']\n",
    "df17.columns=['Exam_ID']\n",
    "df18.columns=['Exam_ID']\n",
    "df19.columns=['Exam_ID']\n",
    "df20.columns=['Exam_ID']\n",
    "df21.columns=['Exam_ID']\n",
    "df22.columns=['Exam_ID']\n",
    "df23.columns=['Exam_ID']\n",
    "df24.columns=['Exam_ID']\n",
    "\n",
    "objs = [\n",
    "df1,\n",
    "df2,\n",
    "df3,\n",
    "df4,\n",
    "df5,\n",
    "df6,\n",
    "df7,\n",
    "df8,\n",
    "df9,\n",
    "df10,\n",
    "df11,\n",
    "df12,\n",
    "df13,\n",
    "df14,\n",
    "df15,\n",
    "df16,\n",
    "df17,\n",
    "df18,\n",
    "df19,\n",
    "df20,\n",
    "df21,\n",
    "df22,\n",
    "df23,\n",
    "df24\n",
    "]\n",
    "\n",
    "final = pd.concat(objs, axis=0)\n",
    "\n",
    "final.Exam_ID = final.Exam_ID.astype(int)\n",
    "\n",
    "b = final['Exam_ID'] != -1\n",
    "\n",
    "final = final[b]\n",
    "\n",
    "\n",
    "final.to_csv(path+'nc_neurostream_examids.csv', sep=',', index=False)\n",
    "      \n"
   ]
  },
  {
   "cell_type": "markdown",
   "metadata": {},
   "source": [
    "# Copy in files"
   ]
  },
  {
   "cell_type": "code",
   "execution_count": 8,
   "metadata": {
    "ExecuteTime": {
     "end_time": "2019-07-03T18:34:27.434452Z",
     "start_time": "2019-07-03T18:34:27.108219Z"
    }
   },
   "outputs": [
    {
     "name": "stdout",
     "output_type": "stream",
     "text": [
      "EX10009\n"
     ]
    }
   ],
   "source": [
    "#copy over the files \n",
    "path='/shared/scratch/dti_tom_collect_MS'\n",
    "\n",
    "inp = '/shared/studies/nonregulated/connectome/dti_fa/neurostream/neurostream_processing/subject_lists/ms_with_inp.csv'\n",
    "no = '/shared/studies/nonregulated/connectome/dti_fa/neurostream/neurostream_processing/subject_lists/ms_no_inp.csv'\n",
    "ms = '/shared/studies/nonregulated/connectome/dti_fa/neurostream/neurostream_processing/subject_lists/ms_all.csv'\n",
    "\n",
    "with open('/shared/studies/nonregulated/connectome/dti_fa/neurostream/neurostream_processing/subject_lists/ms_ids.csv') as csvfile:\n",
    "    subject_list = csv.reader(csvfile, delimiter=',', quotechar='\"')\n",
    "\n",
    "    for subject in subject_list: \n",
    "        subid = subject[0]\n",
    "        \n",
    "        print subid\n",
    "\n",
    "        !cd /shared/studies/nonregulated/connectome/dti_fa/neurostream/neurostream_processing/subjects && \\\n",
    "        mkdir $subid \n",
    "        \n",
    "        if os.path.exists(path+'/'+subid+'/dti.nii.gz'):\n",
    "            !cd /shared/studies/nonregulated/connectome/dti_fa/neurostream/neurostream_processing/subjects/$subid && \\\n",
    "            cp $path/$subid/dti.nii.gz . && \\\n",
    "            cp $path/$subid/dti.dcmdir.tgz .\n",
    "\n",
    "            if os.path.exists(path+'/'+subid+'/t1.nii.gz') and os.path.exists(path+'/'+subid+'/t1_inp.nii.gz'):\n",
    "                !cd /shared/studies/nonregulated/connectome/dti_fa/neurostream/neurostream_processing/subjects/$subid && \\\n",
    "                cp $path/$subid/t1_inp.nii.gz . && \\\n",
    "                cp $path/$subid/t1.nii.gz . && \\\n",
    "                echo $subid >> $inp && \\\n",
    "                echo $subid >> $ms\n",
    "        \n",
    "            elif os.path.exists(path+'/'+subid+'/t1.nii.gz'):\n",
    "                !cd /shared/studies/nonregulated/connectome/dti_fa/neurostream/neurostream_processing/subjects/$subid && \\\n",
    "                cp $path/$subid/t1_inp.nii.gz . && \\\n",
    "                echo $subid >> $no && \\\n",
    "                echo $subid >> $ms\n",
    "            \n",
    "        break\n",
    "\n",
    "        \n",
    "         \n",
    "        "
   ]
  },
  {
   "cell_type": "code",
   "execution_count": null,
   "metadata": {},
   "outputs": [],
   "source": [
    "#check copy files\n",
    "\n",
    "count=0\n",
    "path='/shared/studies/nonregulated/connectome/dti_fa/neurostream/neurostream_processing/subjects/'\n",
    "\n",
    "with open('/shared/studies/nonregulated/connectome/dti_fa/neurostream/neurostream_processing/subject_lists/ms_ids.csv') as csvfile:\n",
    "    subject_list = csv.reader(csvfile, delimiter=',', quotechar='\"')\n",
    "\n",
    "    for subject in subject_list: \n",
    "        subid = subject[0]\n",
    "        \n",
    "        if os.path.exists(path+subid+'/dti.nii.gz'):\n",
    "            print subid+' yeet'\n",
    "        else:\n",
    "            print subid+' noop'\n",
    "            count=count+1\n",
    "\n",
    "\n",
    "    print count\n",
    "    \n",
    "    "
   ]
  },
  {
   "cell_type": "markdown",
   "metadata": {},
   "source": [
    "# Identify missing files"
   ]
  },
  {
   "cell_type": "code",
   "execution_count": null,
   "metadata": {},
   "outputs": [],
   "source": [
    "#find missing inpainted scans\n",
    "\n",
    "with open('/shared/studies/nonregulated/connectome/dti_fa/neurostream/neurostream_processing/subject_lists/ms_files_present.csv') as csvfile:\n",
    "    subject_list = csv.reader(csvfile, delimiter=',', quotechar='\"')\n",
    "\n",
    "    for subject in subject_list: \n",
    "        inp=subject[4]\n",
    "        id=subject[0]\n",
    "        \n",
    "        if inp=='0':\n",
    "            !cd /shared/studies/nonregulated/connectome/dti_fa/neurostream/neurostream_processing/subject_lists && \\\n",
    "            echo $id >> missing_inpainted.csv"
   ]
  },
  {
   "cell_type": "code",
   "execution_count": 9,
   "metadata": {
    "ExecuteTime": {
     "end_time": "2019-07-17T17:56:33.973951Z",
     "start_time": "2019-07-17T17:56:33.859572Z"
    }
   },
   "outputs": [
    {
     "name": "stdout",
     "output_type": "stream",
     "text": [
      "Has all 4 files: 2035\n",
      "Has all but t1 inpainted: 4645\n",
      "Total: 6437\n"
     ]
    }
   ],
   "source": [
    "count=0\n",
    "total=0\n",
    "\n",
    "\n",
    "\n",
    "path='/shared/studies/nonregulated/connectome/dti_fa/neurostream/neurostream_processing/subject_lists/'\n",
    "\n",
    "with open(path+'ms_files_present.csv') as csvfile:\n",
    "    subject_list = csv.reader(csvfile, delimiter=',', quotechar='\"')\n",
    "\n",
    "    for line in subject_list: \n",
    "        subid = line[0]\n",
    "        dicom=line[1]\n",
    "        nifti=line[2]\n",
    "        t1=line[3]\n",
    "        t1i=line[4]\n",
    "        \n",
    "        if dicom=='1' and nifti=='1' and t1=='1' and t1i=='1':\n",
    "            count=count+1\n",
    "        total=total+1\n",
    "            \n",
    "            \n",
    "print \"Has all 4 files: \"+str(count)\n",
    "\n",
    "count=0\n",
    "\n",
    "with open(path+'ms_files_present.csv') as csvfile:\n",
    "    subject_list = csv.reader(csvfile, delimiter=',', quotechar='\"')\n",
    "\n",
    "    for line in subject_list: \n",
    "        subid = line[0]\n",
    "        dicom=line[1]\n",
    "        nifti=line[2]\n",
    "        t1=line[3]\n",
    "        t1i=line[4]\n",
    "\n",
    "        if dicom=='1' and nifti=='1' and t1=='1':\n",
    "            count=count+1\n",
    "\n",
    "\n",
    "\n",
    "    print \"Has all but t1 inpainted: \"+str(count)\n",
    "\n",
    "print \"Total: \"+str(total)"
   ]
  },
  {
   "cell_type": "markdown",
   "metadata": {},
   "source": [
    "# Process scans"
   ]
  },
  {
   "cell_type": "code",
   "execution_count": null,
   "metadata": {},
   "outputs": [],
   "source": [
    "#check completion\n",
    "\n",
    "count=0\n",
    "path='/shared/studies/nonregulated/connectome/dti_fa/neurostream/neurostream_processing/subjects/'\n",
    "\n",
    "with open('/shared/studies/nonregulated/connectome/dti_fa/neurostream/neurostream_processing/subject_lists/ms_ids.csv') as csvfile:\n",
    "    subject_list = csv.reader(csvfile, delimiter=',', quotechar='\"')\n",
    "\n",
    "    for subject in subject_list: \n",
    "        subid = subject[0]\n",
    "        \n",
    "        if os.path.exists(path+subid+'/dti_FA_to_MNI.nii.gz'):\n",
    "            print subid+' yeet'\n",
    "            #count=count+1\n",
    "        else:\n",
    "            print subid+' noop'\n",
    "            count=count+1\n",
    "\n",
    "    print count\n",
    "    \n",
    "    "
   ]
  }
 ],
 "metadata": {
  "kernelspec": {
   "display_name": "Python 2",
   "language": "python",
   "name": "python2"
  },
  "language_info": {
   "codemirror_mode": {
    "name": "ipython",
    "version": 2
   },
   "file_extension": ".py",
   "mimetype": "text/x-python",
   "name": "python",
   "nbconvert_exporter": "python",
   "pygments_lexer": "ipython2",
   "version": "2.7.12"
  },
  "toc": {
   "nav_menu": {},
   "number_sections": true,
   "sideBar": true,
   "skip_h1_title": false,
   "title_cell": "Table of Contents",
   "title_sidebar": "Contents",
   "toc_cell": false,
   "toc_position": {
    "height": "calc(100% - 180px)",
    "left": "10px",
    "top": "150px",
    "width": "165px"
   },
   "toc_section_display": true,
   "toc_window_display": true
  }
 },
 "nbformat": 4,
 "nbformat_minor": 2
}
